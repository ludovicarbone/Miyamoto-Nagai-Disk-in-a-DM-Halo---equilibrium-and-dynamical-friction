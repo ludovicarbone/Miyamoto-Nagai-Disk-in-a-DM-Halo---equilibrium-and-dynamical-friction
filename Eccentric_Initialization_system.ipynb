{
 "cells": [
  {
   "cell_type": "code",
   "execution_count": 50,
   "id": "63b07475-1143-4453-9a3e-ffeeb7387ce4",
   "metadata": {},
   "outputs": [],
   "source": [
    "import numpy as np\n",
    "import matplotlib.pyplot as plt\n",
    "\n",
    "from scipy.stats import norm\n",
    "\n",
    "# Plot settings\n",
    "plt.rc('text', usetex=True)\n",
    "plt.rc('font', family='serif')\n",
    "%matplotlib inline\n",
    "%config InlineBackend.figure_format='retina'\n"
   ]
  },
  {
   "cell_type": "code",
   "execution_count": 51,
   "id": "015fb4eb-e7ac-4dcc-a2fc-ae0387b5e121",
   "metadata": {},
   "outputs": [],
   "source": [
    "G=1"
   ]
  },
  {
   "cell_type": "markdown",
   "id": "0c90263f-b8c9-4479-b421-8db5abdb6be7",
   "metadata": {},
   "source": [
    "# Myiamoto-Nagai Disk"
   ]
  },
  {
   "cell_type": "markdown",
   "id": "f46eea12-5d82-43d1-9013-6fc797f396f9",
   "metadata": {},
   "source": [
    "## Mass of the galaxy from the mass of the halo\n",
    "Moster et all provides an empirical relation: $\\dfrac{M_{star}}{M_{halo}} = 2N \\left[\\left(\\dfrac{M_{halo}}{M_1}\\right)^{-\\beta} + \\left(\\dfrac{M_{halo}}{M_1}\\right)^\\gamma\\right]^{-1}$, where $N$, $M_1$, $\\beta$ and $\\gamma$ are just parameters whose estimates can be found in the paper."
   ]
  },
  {
   "cell_type": "code",
   "execution_count": 52,
   "id": "b225918f-acc6-41c1-aa37-439863bca376",
   "metadata": {},
   "outputs": [],
   "source": [
    "def M_1(z):\n",
    "    M_10 = 11.590\n",
    "    M_11 = 1.195\n",
    "    return 10 ** (M_10 + M_11 * z / (z + 1))\n",
    "\n",
    "def N_(z):\n",
    "    N_10 = 0.0351\n",
    "    N_11 = -0.0247\n",
    "    return N_10 + N_11 * z / (z + 1)\n",
    "\n",
    "def beta(z):\n",
    "    beta_10 = 1.376\n",
    "    beta_11 = -0.826\n",
    "    return beta_10 + beta_11 * z / (z + 1)\n",
    "\n",
    "def gamma(z):\n",
    "    gamma_10 = 0.608\n",
    "    gamma_11 = 0.329\n",
    "    return gamma_10 + gamma_11 * z / (z + 1)\n",
    "\n",
    "def m_star_m_halo(M, z=0):\n",
    "    a = (M / M_1(z)) ** (-beta(z))\n",
    "    b = (M / M_1(z)) ** (gamma(z))\n",
    "    return 2 * M * N_(z) / (a + b)"
   ]
  },
  {
   "cell_type": "code",
   "execution_count": 53,
   "id": "d8ac372f-c934-418e-88c3-eeb73e6a7bfe",
   "metadata": {},
   "outputs": [
    {
     "name": "stdout",
     "output_type": "stream",
     "text": [
      "Mass Disk 3.43e+10\n"
     ]
    }
   ],
   "source": [
    "#stiamo facendo tutto in int units considerando G=1 e massa in masse solari e raggi in kpc\n",
    "num_particles = 20000\n",
    "\n",
    "M_H_sun = 10**12\n",
    "M_D_sun = m_star_m_halo(M_H_sun)\n",
    "\n",
    "print(f'Mass Disk {M_D_sun:.2e}')"
   ]
  },
  {
   "cell_type": "code",
   "execution_count": 54,
   "id": "ef23490e-123e-4cf7-a5ce-b83308e458dc",
   "metadata": {},
   "outputs": [
    {
     "name": "stdout",
     "output_type": "stream",
     "text": [
      "Mass Disk (int units)3.42752e+01\n"
     ]
    }
   ],
   "source": [
    "#proportion to rescale the masses in internal units\n",
    "\n",
    "M_H = 1000\n",
    "M_D = M_H * M_D_sun / M_H_sun\n",
    "\n",
    "print(f'Mass Disk (int units){M_D:.5e}')\n",
    "\n",
    "m_particles = float(M_D/num_particles)"
   ]
  },
  {
   "cell_type": "markdown",
   "id": "fb38e11c-d5a1-4390-b8bd-b47ea67af406",
   "metadata": {},
   "source": [
    "## Positions and velocities of a perturber in an eccentric orbit"
   ]
  },
  {
   "cell_type": "markdown",
   "id": "834fe638-f504-4c38-95b0-089703a3abab",
   "metadata": {},
   "source": [
    "### Potenziale dell'alone:\n",
    "$$\n",
    "\\Phi_{\\text{halo}}(R, z) = - \\frac{G M_H}{\\sqrt{R^2 + z^2} + a_H}\n",
    "$$\n",
    "\n",
    "### Potenziale del disco:\n",
    "$$\n",
    "\\Phi_{\\text{disk}}(R, z) = - \\frac{G M_D}{\\sqrt{\\left(a_D + \\sqrt{z^2 + b^2}\\right)^2 + R^2}}\n",
    "$$\n",
    "\n",
    "### Derivata del potenziale rispetto a \\(R\\) per la velocità circolare (z=0):\n",
    "$$\n",
    "\\frac{\\partial \\Phi}{\\partial R} =\\frac{\\partial (\\Phi_{\\text{disk}}+\\Phi_{\\text{halo}})}{\\partial R} = G R \\left( M_D \\left[\\left(a_D + b\\right)^2 + R^2\\right]^{-\\frac{3}{2}} + M_H \\frac{1}{\\left(R + A\\right)^2 R} \\right)\n",
    "$$\n",
    "\n",
    "### Velocità circolare:\n",
    "$$\n",
    "v_{\\text{circ}}(R) = \\sqrt{R \\cdot \\frac{\\partial \\Phi}{\\partial R}}\n",
    "$$\n",
    "\n",
    "### Distribuzione di v_z\n",
    "\n",
    "$$\n",
    "f(v_z) = \\frac{1}{\\sqrt{2\\pi} \\sigma_z} \\exp\\left(-\\frac{v_z^2}{2\\sigma_z^2}\\right)\n",
    "$$\n",
    "\n",
    "### Rho Halo, Hernquist\n",
    "$$\n",
    "\\rho(R, z) = \\frac{M}{2\\pi} \\frac{a}{\\sqrt{R^2 + z^2} \\left(\\sqrt{R^2 + z^2} + a\\right)^3}\n",
    "$$\n",
    "\n",
    "\n",
    "\n",
    "### Densità di Miyamoto-Nagai\n",
    "$$\n",
    "\\rho(R, z) = \\frac{b^2 M}{4 \\pi} \\frac{a R^2 + (a + 3\\sqrt{z^2 + b^2})(a + \\sqrt{z^2 + b^2})^2}{\\left[R^2 + (a + \\sqrt{z^2 + b^2})^2\\right]^{5/2}(z^2 + b^2)^{3/2}}\n",
    "$$"
   ]
  },
  {
   "cell_type": "code",
   "execution_count": 55,
   "id": "3f9feae3-2a13-44f5-b9cc-bda0096bf0fc",
   "metadata": {},
   "outputs": [],
   "source": [
    "const = 1.0\n",
    "a = 3\n",
    "b = 0.05 * a\n",
    "\n",
    "R_max = 30  # kpc\n",
    "z_max = 5  # esempio di limite massimo per z\n",
    "\n",
    "a_H = 6"
   ]
  },
  {
   "cell_type": "code",
   "execution_count": 56,
   "id": "35cbfd1d-3fd7-425a-9c29-c232e64b9ae0",
   "metadata": {},
   "outputs": [],
   "source": [
    "def rho_D(R, z):\n",
    "    ''' Densità volumica di Miyamoto-Nagai  '''\n",
    "    sqrt_zb = np.sqrt(z**2 + b**2)\n",
    "    numerator = b**2 * M_D * (a * R**2 + (a + 3 * sqrt_zb) * (a + sqrt_zb)**2)\n",
    "    denominator = 4 * np.pi * (R**2 + (a + sqrt_zb)**2)**(5/2) * (z**2 + b**2)**(3/2)\n",
    "    return numerator / denominator\n"
   ]
  },
  {
   "cell_type": "code",
   "execution_count": 74,
   "id": "e1b2ac21-f7cd-49f2-943b-60bae1b425f1",
   "metadata": {},
   "outputs": [],
   "source": [
    "def pot_halo (R,z):\n",
    "    r = np.sqrt(R**2 + z**2)\n",
    "    return - G * M_H / (r + a_H)\n",
    "\n",
    "def pot_disk (R,z):\n",
    "    return - G * M_D / np.sqrt((a+np.sqrt(z**2. + b**2.))**2. + R**2.)\n",
    "\n",
    "def dphi_dr (R):\n",
    "    ''' derivata prima del potenziale totale (halo + disk) a z=0'''\n",
    "    return G * R * (M_D * ((a + b)**2. + R**2)**(-3./2.) + M_H * (R+a_H)**(-2) * R**(-1))\n",
    "\n",
    "def second_dphi_dr (R):\n",
    "    ''' derivata seconda del potenziale totale (halo + disk) a z=0'''\n",
    "    return dphi_dr(R)/R + G * R * (M_D*(-3*R*((a+b)**2 + R**2)**(-5/2)) - M_H * (2 * (R+a_H)**(-3) * R**(-1) + (R+a_H)**(-2) * R**(-2)))\n",
    "\n",
    "def v_circ(R):\n",
    "    return np.sqrt(dphi_dr(R) * R)\n",
    "\n",
    "def omega(R):\n",
    "    return np.sqrt(dphi_dr(R)/R)\n",
    "\n",
    "def kappa(R):\n",
    "    return np.sqrt(second_dphi_dr(R) + 3 * dphi_dr(R)/R)\n",
    "\n",
    "def rho_H(R, z):\n",
    "    ''' Densità volumica di hernquist  '''\n",
    "    return (M_H / (2 * np.pi)) * (a / (np.sqrt(R**2 + z**2) * (np.sqrt(R**2 + z**2) + a)**3))\n",
    "\n",
    "def rho_tot(R,z):\n",
    "    return rho_D(R,z) + rho_H(R,z)\n",
    "'''\n",
    "def sigma_r(R, Q=1.2):\n",
    "    S = Sigma(R)\n",
    "    k = kappa(R)\n",
    "    return 3.36 * Q * G * S / k'''\n",
    "\n",
    "def sigma_z(R_values, b=b):\n",
    "    print('b=',b)\n",
    "    surface_density = Sigma(R_values)\n",
    "    return np.sqrt(np.pi * G * surface_density * b / 2)\n",
    "\n",
    "def compute_Q (R, b=b):\n",
    "    k = kappa(R)\n",
    "    S = Sigma(R)\n",
    "    print('b=',b)\n",
    "    return k/3.36 * np.sqrt((np.pi*b)/(G*S*2))\n",
    "\n",
    "def Sigma(R_values):\n",
    "    ''' Calcola la densità superficiale per ogni R dato'''\n",
    "    # Preallocazione dell'array per i risultati\n",
    "    Sigma_values = np.zeros_like(R_values)\n",
    "    \n",
    "    # Calcola l'integrale per ciascun valore di R\n",
    "    for i, R in enumerate(R_values):\n",
    "        Sigma_values[i] = 2 * np.trapz([rho_D(R, z) for z in np.linspace(0, z_max, 100)], dx=float(z_max/100))\n",
    "    \n",
    "    return Sigma_values"
   ]
  },
  {
   "cell_type": "markdown",
   "id": "0ecfb9e8-10f3-46f5-959b-e6c3293b1f4b",
   "metadata": {},
   "source": [
    " #### Eccentric orbit\n",
    "\n",
    " Consider the initial position as the apoastro of the orbit and fix the eccentricity of the system.\n",
    "\n",
    "- $ r_a = 5.2 $\n",
    "- $ e = 0.65 $\n",
    "- $ r_p = r_a \\frac{1-e}{1+e} = 1.1$\n",
    "\n",
    "For semplicity we consider the perturber in an orbit with z = 0.\n",
    "Now consider the energy per unit mass of the perturber:\n",
    "$$\n",
    "    E = \\frac{v_\\theta ^ 2}{2} + \\Phi_\\text{tot} (R)\n",
    "$$\n",
    "\n",
    "The angular momentum per unit mass is \n",
    "$$\n",
    "    L_z = R v_\\theta\n",
    "$$\n",
    "\n",
    "We can use the conservation of angular momentum to write the velocity at the periastro as a function of the velocity at the apoastro\n",
    "$$\n",
    "    R_a v_{\\theta a} = R_p v_{\\theta p} \n",
    "$$ \n",
    "\n",
    "$$\n",
    "       v_{\\theta p} =  \\frac{R_a v_{\\theta a}}{R_p}  \n",
    "$$\n",
    "\n",
    "Now the conservation of enerhìgy to find an equation for $v_{\\theta a}$\n",
    "$$\n",
    "     \\frac{v_{\\theta a} ^ 2}{2} + \\Phi_\\text{tot} (R_a) =  \\frac{v_{\\theta p} ^ 2}{2} + \\Phi_\\text{tot} (R_p)\n",
    "$$\n",
    "$$\n",
    "     \\frac{v_{\\theta a} ^ 2}{2} + \\Phi_\\text{tot} (R_a) =  \\frac{ (\\frac{R_a v_{\\theta a}}{R_p} ) ^ 2}{2} + \\Phi_\\text{tot} (R_p)\n",
    "$$\n",
    "$$\n",
    "   v_{\\theta a}^2 (1-\\frac{R_a^2}{R_p^2})   = 2 ( \\Phi_\\text{tot} (R_a) +  \\Phi_\\text{tot} (R_p) )\n",
    "$$\n",
    "$$\n",
    "     v_{\\theta a} = \\sqrt{2 \\frac{\\Phi_\\text{tot} (R_p) -  \\Phi_\\text{tot} (R_a)}{1-\\frac{R_a^2}{R_p^2}}}\n",
    "$$\n"
   ]
  },
  {
   "cell_type": "code",
   "execution_count": 69,
   "id": "3db5fcee-21e5-4adb-afe1-c3ae6d262606",
   "metadata": {},
   "outputs": [],
   "source": [
    "def vel_apo (a, e, z=0):\n",
    "    p = a * (1-e) / (1+e)\n",
    "    pot_apo = pot_disk(a,z) + pot_halo(a,z)\n",
    "    pot_peri = pot_disk(p,z) + pot_halo(p,z)\n",
    "    print(pot_apo, pot_peri, a/p)\n",
    "\n",
    "    return np.sqrt(2*((pot_peri - pot_apo)/(1-(a/p)**2)))"
   ]
  },
  {
   "cell_type": "code",
   "execution_count": 70,
   "id": "eadf79ab-4fc1-4ee8-b630-1b8ef4b454f7",
   "metadata": {},
   "outputs": [],
   "source": [
    "#choose z,R,phi\n",
    "z_pert = 0\n",
    "R_pert = 5.2 #it's the apoastro\n",
    "phi_pert = np.pi/3.\n",
    "#compute x,y\n",
    "x_pert = [R_pert * np.cos(phi_pert)]\n",
    "y_pert = [R_pert * np.sin(phi_pert)]\n",
    "\n",
    "ecc = 0.65\n",
    "m_pert = m_particles*500/2"
   ]
  },
  {
   "cell_type": "code",
   "execution_count": 71,
   "id": "1e2d1410-f2dc-430e-9805-411e9a700643",
   "metadata": {},
   "outputs": [
    {
     "name": "stdout",
     "output_type": "stream",
     "text": [
      "-94.9233721860714 -151.0545670777727 4.714285714285714\n"
     ]
    }
   ],
   "source": [
    "v_phi_pert = vel_apo (R_pert, ecc)"
   ]
  },
  {
   "cell_type": "code",
   "execution_count": 72,
   "id": "289ff662-92d3-4a9a-a110-9092df577547",
   "metadata": {},
   "outputs": [],
   "source": [
    "v_x = -v_phi_pert * np.sin(phi_pert)\n",
    "v_y = v_phi_pert * np.cos(phi_pert)\n",
    "v_z = 0"
   ]
  },
  {
   "cell_type": "code",
   "execution_count": 27,
   "id": "6e42c9a8-f8b0-4586-8a14-e432d0da3a2c",
   "metadata": {},
   "outputs": [
    {
     "name": "stdout",
     "output_type": "stream",
     "text": [
      "vx= -1.0282236417270334 \n",
      "vy= 0.5936451963382402\n"
     ]
    }
   ],
   "source": [
    "print('vx=', v_x, '\\nvy=', v_y)"
   ]
  },
  {
   "cell_type": "code",
   "execution_count": 73,
   "id": "6385f469",
   "metadata": {},
   "outputs": [
    {
     "name": "stdout",
     "output_type": "stream",
     "text": [
      "vx= -1.9917239403003186 \n",
      "vy= 1.1499223530838114\n"
     ]
    }
   ],
   "source": [
    "print('vx=', v_x, '\\nvy=', v_y)"
   ]
  },
  {
   "cell_type": "code",
   "execution_count": null,
   "id": "8a776366-9da9-4b82-b5e0-0670d06477b6",
   "metadata": {},
   "outputs": [],
   "source": []
  },
  {
   "cell_type": "code",
   "execution_count": 29,
   "id": "7225a65d-b71f-4d49-9ddd-e6399ab60838",
   "metadata": {},
   "outputs": [],
   "source": [
    "vcirc = v_circ(R_pert)"
   ]
  },
  {
   "cell_type": "code",
   "execution_count": 31,
   "id": "1e9d2373-f0cb-4242-8ef6-24d0aae0f530",
   "metadata": {},
   "outputs": [
    {
     "data": {
      "text/plain": [
       "3.3755859842475258"
      ]
     },
     "execution_count": 31,
     "metadata": {},
     "output_type": "execute_result"
    }
   ],
   "source": [
    "vcirc * np.cos(phi_pert)"
   ]
  },
  {
   "cell_type": "markdown",
   "id": "20d15fcd-ba9a-4b58-aaf8-9696814327eb",
   "metadata": {},
   "source": [
    "### Treecode parameters"
   ]
  },
  {
   "cell_type": "code",
   "execution_count": 47,
   "id": "2fe56df5-cd04-4dc7-a72b-8ca345a84333",
   "metadata": {},
   "outputs": [],
   "source": [
    "from scipy.integrate import quad\n",
    "import numpy as np\n",
    "\n",
    "def period_orbit(r_apo, e, v, z=0):\n",
    "    r_peri = r_apo * (1 - e) / (1 + e)\n",
    "    # Energia specifica E\n",
    "    E = 0.5 * v**2 + pot_disk(r_apo, z) + pot_halo(r_apo, z)\n",
    "    print(f\"E: {E}, r_peri: {r_peri}, r_apo: {r_apo}\")\n",
    "    \n",
    "    # Momento angolare specifico L_z\n",
    "    Lz = r_apo * v\n",
    "    print(f\"Lz: {Lz}\")\n",
    "    \n",
    "    # Funzione per il calcolo di dr/dt\n",
    "    def integrand(r):\n",
    "        arg =np.abs (2 * (E - pot_disk(r, 0) - pot_halo(r, 0)) - (Lz**2 / r**2))\n",
    "        if arg < 0:\n",
    "            print(f\"Warning: Negative argument at r={r}, arg={arg}\")\n",
    "            return np.inf  # Gestione dell'errore\n",
    "        return 1.0 / np.sqrt(arg)\n",
    "    \n",
    "    # Integrazione numerica da r_peri a r_apo\n",
    "    integral, _ = quad(integrand, r_peri, r_apo)\n",
    "    print(f\"Integral result: {integral}\")\n",
    "    \n",
    "    # Periodo totale (fattore 2 per completare l'orbita)\n",
    "    T = 2 * integral\n",
    "    return T\n"
   ]
  },
  {
   "cell_type": "code",
   "execution_count": 48,
   "id": "f08f2d48-fe25-4558-9791-cfae09091ae6",
   "metadata": {},
   "outputs": [
    {
     "name": "stdout",
     "output_type": "stream",
     "text": [
      "E: -24.302578058913525, r_peri: 1.103030303030303, r_apo: 5.2\n",
      "Lz: 35.10609423617426\n",
      "Integral result: 0.7497573988565343\n"
     ]
    }
   ],
   "source": [
    "T = period_orbit(R_pert, ecc, vcirc)"
   ]
  },
  {
   "cell_type": "code",
   "execution_count": 49,
   "id": "cd20ce82-5d1d-474e-8d2d-eca95e5ea469",
   "metadata": {},
   "outputs": [
    {
     "data": {
      "text/plain": [
       "1.4995147977130685"
      ]
     },
     "execution_count": 49,
     "metadata": {},
     "output_type": "execute_result"
    }
   ],
   "source": [
    "T"
   ]
  },
  {
   "cell_type": "code",
   "execution_count": 133,
   "id": "d78b21d4-46d5-43ea-8f15-e6200ec08d73",
   "metadata": {},
   "outputs": [
    {
     "data": {
      "text/plain": [
       "(20001,)"
      ]
     },
     "execution_count": 133,
     "metadata": {},
     "output_type": "execute_result"
    }
   ],
   "source": [
    "x_tot.shape"
   ]
  },
  {
   "cell_type": "code",
   "execution_count": 150,
   "id": "a9eecc0c-da6b-4eed-a193-6d48768bc13c",
   "metadata": {},
   "outputs": [
    {
     "name": "stdout",
     "output_type": "stream",
     "text": [
      "Softening parameter = 0.095\n"
     ]
    }
   ],
   "source": [
    "#volume = np.pi * a**2 * (np.max(z_particles)*2)\n",
    "volume = (M_D+m_pert)  / np.max(rho_D(np.array(R_tot), np.array(z_tot)))\n",
    "softening = ((volume/num_particles)**(1/3))\n",
    "\n",
    "print(f'Softening parameter = {softening:.3f}')"
   ]
  },
  {
   "cell_type": "code",
   "execution_count": 151,
   "id": "ec8feb1e-9dd1-442a-871b-740699b5fc16",
   "metadata": {},
   "outputs": [
    {
     "name": "stdout",
     "output_type": "stream",
     "text": [
      "L'accelerazione massima è: 4.17693e+04\n"
     ]
    }
   ],
   "source": [
    "def calculate_accelerations(R, z):\n",
    "    # Potenziale dell'alone\n",
    "    denominator_halo = (R**2 + z**2 + softening**2)**1.5\n",
    "    acc_R_halo = -G * M_H * R / denominator_halo\n",
    "    acc_z_halo = -G * M_H * z / denominator_halo\n",
    "\n",
    "    # Potenziale del disco\n",
    "    sqrt_zb2 = np.sqrt(z**2 + b**2)\n",
    "    denominator_disk = ((a + sqrt_zb2)**2 + R**2)**1.5\n",
    "    acc_R_disk = -G * M_D * R / denominator_disk\n",
    "    acc_z_disk = -G * M_D * z * (a + sqrt_zb2) / (sqrt_zb2 * denominator_disk)\n",
    "\n",
    "    # Accelerazioni totali\n",
    "    acc_R_total = acc_R_halo + acc_R_disk\n",
    "    acc_z_total = acc_z_halo + acc_z_disk\n",
    "    return acc_R_total, acc_z_total\n",
    "\n",
    "# Calcolo delle accelerazioni\n",
    "acc_R, acc_z = calculate_accelerations(np.array(R_tot), np.array(z_tot))\n",
    "\n",
    "# Modulo dell'accelerazione totale per ogni particella\n",
    "acc_total = np.sqrt(acc_R**2 + acc_z**2)\n",
    "\n",
    "# Accelerazione massima\n",
    "acc_max = np.max(acc_total)\n",
    "\n",
    "print(f\"L'accelerazione massima è: {acc_max:.5e}\")"
   ]
  },
  {
   "cell_type": "code",
   "execution_count": 152,
   "id": "40cdfd1e-69e0-4029-a5ab-874dedf88844",
   "metadata": {},
   "outputs": [
    {
     "name": "stdout",
     "output_type": "stream",
     "text": [
      "Timestep: 0.0007539262017918349\n"
     ]
    }
   ],
   "source": [
    "dt = 0.5 * np.sqrt(softening / acc_max)\n",
    "print('Timestep:', dt)"
   ]
  },
  {
   "cell_type": "code",
   "execution_count": 153,
   "id": "21e5d60d-0a9f-4cc4-9b94-e7b1392a8192",
   "metadata": {},
   "outputs": [
    {
     "name": "stdout",
     "output_type": "stream",
     "text": [
      "Dynamical timescale = 1.8810655297313683\n"
     ]
    }
   ],
   "source": [
    "rho_mean = np.mean(rho_D(np.array(R_tot), np.array(z_tot)))\n",
    "t_dyn = np.sqrt(1/rho_mean)\n",
    "\n",
    "print(f'Dynamical timescale = {t_dyn}')"
   ]
  },
  {
   "cell_type": "code",
   "execution_count": 154,
   "id": "95acd33c-2a82-4d6a-ae99-aab4e1e25cbb",
   "metadata": {},
   "outputs": [
    {
     "data": {
      "text/plain": [
       "34.27515185606664"
      ]
     },
     "execution_count": 154,
     "metadata": {},
     "output_type": "execute_result"
    }
   ],
   "source": [
    "M_D"
   ]
  },
  {
   "cell_type": "code",
   "execution_count": null,
   "id": "21d69f2e-e7da-484d-8f43-681a5a95e6e4",
   "metadata": {},
   "outputs": [],
   "source": [
    "def w_onfile(filename, num_points, masses, dimension, x, y, z, v_x, v_y, v_z):\n",
    "    # Scegli un indice casuale\n",
    "    #random_number= 11022\n",
    "    modified_masses = [masses] * num_points\n",
    "    # Modifica la massa della particella alla posizione random_number\n",
    "   # modified_masses[random_number] = 1000 * masses\n",
    "    #print(modified_masses[random_number])\n",
    "    with open(filename, 'w') as file:\n",
    "        file.write(f'  {num_points} \\n  {dimension} \\n  {0}  \\n')\n",
    "        for mass in modified_masses:\n",
    "            file.write(f'  {mass}  \\n')\n",
    "        for i in range(num_points):\n",
    "            file.write(f'  {x[i]}  {y[i]}  {z[i]}  \\n')\n",
    "        for i in range(num_points):\n",
    "            file.write(f'  {v_x[i]}  {v_y[i]}  {v_z[i]} \\n')\n",
    "            \n",
    "filename = 'treecode_in_perturber.txt'\n",
    "\n",
    "w_onfile(filename, (num_particles+1), M_D/num_particles, 3, x_tot, y_tot, z_tot, v_x, v_y, v_z) "
   ]
  },
  {
   "cell_type": "code",
   "execution_count": 141,
   "id": "3519ba39-78e7-446d-bfb3-e91b959df308",
   "metadata": {},
   "outputs": [],
   "source": [
    "# ./treecode in=../treecode_in_perturber.txt out=../treecode_out_perturber.txt dtime=0.00077 eps=0.096 theta=0.2 tstop=22.8 dtout=0.47 > ../output_treecode_perturber.txt"
   ]
  }
 ],
 "metadata": {
  "kernelspec": {
   "display_name": "Python (astrostat_env)",
   "language": "python",
   "name": "astrostat_env"
  },
  "language_info": {
   "codemirror_mode": {
    "name": "ipython",
    "version": 3
   },
   "file_extension": ".py",
   "mimetype": "text/x-python",
   "name": "python",
   "nbconvert_exporter": "python",
   "pygments_lexer": "ipython3",
   "version": "3.10.12"
  }
 },
 "nbformat": 4,
 "nbformat_minor": 5
}
